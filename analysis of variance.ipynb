{
 "cells": [
  {
   "cell_type": "code",
   "execution_count": 1,
   "id": "06eea6a8",
   "metadata": {},
   "outputs": [],
   "source": [
    "# Целью данного нализа является:\n",
    "#     1) провести дисперсионный анализ зависимости показателя модуля упругости от геометрии ячейки;\n",
    "#     3) провести дисперсионный анализ зависимости показателя модуля упругости от коэффициента трения между заготовкой и испытательной машиной;\n",
    "#     2) проверить корреляционную зависимость.\n",
    "\n",
    "# Ниже представленна последовательность действий анализа и описания результатов данных моделирования нагружения ячеистых структур."
   ]
  },
  {
   "cell_type": "code",
   "execution_count": 2,
   "id": "fd4fa45a",
   "metadata": {},
   "outputs": [],
   "source": [
    "# Дисперсионный анализ"
   ]
  },
  {
   "cell_type": "code",
   "execution_count": 3,
   "id": "467caee6",
   "metadata": {},
   "outputs": [],
   "source": [
    "# импортируем все необходимые библиотеки\n",
    "import pandas as pd\n",
    "import statistics as st\n",
    "import numpy as np\n",
    "import scipy.stats"
   ]
  },
  {
   "cell_type": "code",
   "execution_count": 4,
   "id": "dc6c289d",
   "metadata": {},
   "outputs": [
    {
     "data": {
      "text/html": [
       "<div>\n",
       "<style scoped>\n",
       "    .dataframe tbody tr th:only-of-type {\n",
       "        vertical-align: middle;\n",
       "    }\n",
       "\n",
       "    .dataframe tbody tr th {\n",
       "        vertical-align: top;\n",
       "    }\n",
       "\n",
       "    .dataframe thead th {\n",
       "        text-align: right;\n",
       "    }\n",
       "</style>\n",
       "<table border=\"1\" class=\"dataframe\">\n",
       "  <thead>\n",
       "    <tr style=\"text-align: right;\">\n",
       "      <th></th>\n",
       "      <th>rhombus_E</th>\n",
       "      <th>oval_E</th>\n",
       "      <th>cs_rhombus_E</th>\n",
       "    </tr>\n",
       "  </thead>\n",
       "  <tbody>\n",
       "    <tr>\n",
       "      <th>0</th>\n",
       "      <td>88.279</td>\n",
       "      <td>92.643</td>\n",
       "      <td>57.80</td>\n",
       "    </tr>\n",
       "    <tr>\n",
       "      <th>1</th>\n",
       "      <td>88.515</td>\n",
       "      <td>92.556</td>\n",
       "      <td>58.15</td>\n",
       "    </tr>\n",
       "    <tr>\n",
       "      <th>2</th>\n",
       "      <td>88.200</td>\n",
       "      <td>94.197</td>\n",
       "      <td>57.55</td>\n",
       "    </tr>\n",
       "    <tr>\n",
       "      <th>3</th>\n",
       "      <td>87.808</td>\n",
       "      <td>92.297</td>\n",
       "      <td>57.55</td>\n",
       "    </tr>\n",
       "    <tr>\n",
       "      <th>4</th>\n",
       "      <td>87.651</td>\n",
       "      <td>92.211</td>\n",
       "      <td>57.35</td>\n",
       "    </tr>\n",
       "  </tbody>\n",
       "</table>\n",
       "</div>"
      ],
      "text/plain": [
       "   rhombus_E  oval_E  cs_rhombus_E\n",
       "0     88.279  92.643         57.80\n",
       "1     88.515  92.556         58.15\n",
       "2     88.200  94.197         57.55\n",
       "3     87.808  92.297         57.55\n",
       "4     87.651  92.211         57.35"
      ]
     },
     "execution_count": 4,
     "metadata": {},
     "output_type": "execute_result"
    }
   ],
   "source": [
    "# Создадим таблицу в которой будет 3 уровня фактора формы и у каждого из них будет 5 различных вариантов построения сетки конечных элементов \n",
    "d = {\n",
    "    'rhombus_E': [88.279, 88.515, 88.200, 87.808, 87.651], \n",
    "    'oval_E': [92.643, 92.556, 94.197, 92.297, 92.211], \n",
    "    'cs_rhombus_E': [57.800, 58.150, 57.550, 57.550, 57.350] }\n",
    "df = pd.DataFrame (data = d)\n",
    "df"
   ]
  },
  {
   "cell_type": "code",
   "execution_count": 44,
   "id": "7460d732",
   "metadata": {
    "scrolled": true
   },
   "outputs": [
    {
     "name": "stdout",
     "output_type": "stream",
     "text": [
      "Cреднее арифметическое значение для 3 уровней фактора формы поры:\n"
     ]
    },
    {
     "data": {
      "text/plain": [
       "rhombus_E       88.0906\n",
       "oval_E          92.7808\n",
       "cs_rhombus_E    57.6800\n",
       "dtype: float64"
      ]
     },
     "execution_count": 44,
     "metadata": {},
     "output_type": "execute_result"
    }
   ],
   "source": [
    "# Рассчитаем среднее арифметическое значение для 3 уровней фактора формы поры\n",
    "df_mean_colum = df.mean(axis = 0)\n",
    "print('Cреднее арифметическое значение для 3 уровней фактора формы поры:')\n",
    "df_mean_colum"
   ]
  },
  {
   "cell_type": "code",
   "execution_count": 45,
   "id": "cc996f12",
   "metadata": {},
   "outputs": [
    {
     "name": "stdout",
     "output_type": "stream",
     "text": [
      "Cреднее арифметическое значение для 5 различных вариантов построения сетки конечных элементов:\n"
     ]
    },
    {
     "data": {
      "text/plain": [
       "0    79.574000\n",
       "1    79.740333\n",
       "2    79.982333\n",
       "3    79.218333\n",
       "4    79.070667\n",
       "dtype: float64"
      ]
     },
     "execution_count": 45,
     "metadata": {},
     "output_type": "execute_result"
    }
   ],
   "source": [
    "# Рассчитаем среднее арифметическое значение для 5 различных вариантов построения сетки конечных элементов \n",
    "df_mean_index = df.mean(axis = 1)\n",
    "print('Cреднее арифметическое значение для 5 различных вариантов построения сетки конечных элементов:')\n",
    "df_mean_index"
   ]
  },
  {
   "cell_type": "code",
   "execution_count": 46,
   "id": "1cd90778",
   "metadata": {
    "scrolled": true
   },
   "outputs": [
    {
     "name": "stdout",
     "output_type": "stream",
     "text": [
      "Среднее арифметическое всех опытов всех форм:\n"
     ]
    },
    {
     "data": {
      "text/plain": [
       "79.51713333333333"
      ]
     },
     "execution_count": 46,
     "metadata": {},
     "output_type": "execute_result"
    }
   ],
   "source": [
    "df_mean_colum_list = list(df_mean_colum)\n",
    "df_mean_index_list = list(df_mean_index)\n",
    "# Вычисляем среднее арифметическое всех опытов всех форм\n",
    "df_mean_list = df_mean_colum_list + df_mean_index_list\n",
    "print('Среднее арифметическое всех опытов всех форм:')\n",
    "st.mean(df_mean_list)"
   ]
  },
  {
   "cell_type": "code",
   "execution_count": 47,
   "id": "8db24b73",
   "metadata": {},
   "outputs": [
    {
     "name": "stdout",
     "output_type": "stream",
     "text": [
      "Выборочная факторная дисперсия:\n"
     ]
    },
    {
     "data": {
      "text/plain": [
       "363.14478817333315"
      ]
     },
     "execution_count": 47,
     "metadata": {},
     "output_type": "execute_result"
    }
   ],
   "source": [
    "# Рассчитаем выборочную факторную дисперсию\n",
    "A = []\n",
    "for i in df_mean_colum_list:\n",
    "    A.append((i - st.mean(df_mean_list))**2)\n",
    "sx2 = sum(A) / (len(A) - 1)\n",
    "print('Выборочная факторная дисперсия:')\n",
    "sx2"
   ]
  },
  {
   "cell_type": "code",
   "execution_count": 48,
   "id": "b8672cb9",
   "metadata": {},
   "outputs": [
    {
     "name": "stdout",
     "output_type": "stream",
     "text": [
      "Выборочная дисперсия воспроизводимости:\n"
     ]
    },
    {
     "data": {
      "text/plain": [
       "0.29271416666666755"
      ]
     },
     "execution_count": 48,
     "metadata": {},
     "output_type": "execute_result"
    }
   ],
   "source": [
    "# Рассчитаем выборочную дисперсию воспроизводимости\n",
    "B = []\n",
    "C = []\n",
    "for i in range(0, len(df_mean_colum_list)):\n",
    "    B.append((df.iloc[:, [i]] - df_mean_colum_list [i])**2)\n",
    "for i in range(0, len(df_mean_colum_list)):\n",
    "    C.append(list(B[i].sum()))\n",
    "C = pd.Series( (v[0] for v in C) )\n",
    "se2 = C.sum() / (len(df_mean_colum_list) * (len(df_mean_index_list) - 1))\n",
    "print('Выборочная дисперсия воспроизводимости:')\n",
    "se2"
   ]
  },
  {
   "cell_type": "code",
   "execution_count": 54,
   "id": "14554a0c",
   "metadata": {},
   "outputs": [
    {
     "name": "stdout",
     "output_type": "stream",
     "text": [
      "Критерий фишера расчитанный:\n",
      "1240.6122747959428\n",
      "Критерий фишера согласно таблице квантилей распределения Фишера:\n",
      "6.944271909999155\n",
      "Влияниение фактора формы поры на модуль упругости пористого материала существенно.\n",
      "6.944271909999155 < 1240.6122747959428\n"
     ]
    }
   ],
   "source": [
    "# Проводим проверку с использованием критерия фишера\n",
    "# q: уровень значимости для использования\n",
    "# dfn : Степени свободы в числителе\n",
    "# dfd : Степени свободы в знаменателе\n",
    "dfn = (len(df_mean_colum_list) - 1)\n",
    "dfd = (len(df_mean_index_list) - 1)\n",
    "q = 0.95\n",
    "F_solv = sx2/se2\n",
    "F_tabl = scipy.stats.f.ppf(q, dfn, dfd)\n",
    "print('Критерий фишера расчитанный:')\n",
    "print(F_solv)\n",
    "print('Критерий фишера согласно таблице квантилей распределения Фишера:')\n",
    "print(F_tabl)\n",
    "if F_tabl < F_solv:\n",
    "    print('Влияниение фактора формы поры на модуль упругости пористого материала существенно.')\n",
    "    print(F_tabl, '<', F_solv)\n",
    "else:\n",
    "    print('Влияниение фактора формы поры на модуль упругости пористого материала НЕ существенно.')\n",
    "    F_tabl, '>', F_solv"
   ]
  },
  {
   "cell_type": "code",
   "execution_count": null,
   "id": "fe80dc99",
   "metadata": {},
   "outputs": [],
   "source": []
  }
 ],
 "metadata": {
  "kernelspec": {
   "display_name": "Python 3",
   "language": "python",
   "name": "python3"
  },
  "language_info": {
   "codemirror_mode": {
    "name": "ipython",
    "version": 3
   },
   "file_extension": ".py",
   "mimetype": "text/x-python",
   "name": "python",
   "nbconvert_exporter": "python",
   "pygments_lexer": "ipython3",
   "version": "3.8.8"
  }
 },
 "nbformat": 4,
 "nbformat_minor": 5
}
